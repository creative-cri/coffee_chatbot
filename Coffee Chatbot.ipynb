{
 "cells": [
  {
   "cell_type": "code",
   "execution_count": 1,
   "id": "a7417539",
   "metadata": {},
   "outputs": [],
   "source": [
    "# Define your functions\n",
    "def coffee_bot():\n",
    "  print('Welcome to the cafe!')\n",
    "  size = get_size()\n",
    "  drink_type = get_drink_type()\n",
    "  print('Alright, that\\'s a {} {}!'.format(size, drink_type))\n",
    "\n",
    "  extra_options()\n",
    "  \n",
    "  name = input('Can I get your name please? \\n> ')\n",
    "  print('Thanks, {}! Your drink will be ready shortly'.format(name))"
   ]
  },
  {
   "cell_type": "code",
   "execution_count": 2,
   "id": "853b9cb1",
   "metadata": {},
   "outputs": [],
   "source": [
    "def get_size():\n",
    "  res = input('What size drink can I get for you? \\n[a] Small \\n[b] Medium \\n[c] Large \\n> ')\n",
    "\n",
    "  if res == 'a':\n",
    "    return 'small'\n",
    "  elif res == 'b':\n",
    "    return 'medium'\n",
    "  elif res == 'c':\n",
    "    return 'large'\n",
    "  else:\n",
    "    print_message()\n",
    "    return get_size()"
   ]
  },
  {
   "cell_type": "code",
   "execution_count": 3,
   "id": "4295ebb8",
   "metadata": {},
   "outputs": [],
   "source": [
    "def print_message():\n",
    "  print(\"I'm sorry, I did not understand your selection. Please enter the corresponding letter for your response.\")"
   ]
  },
  {
   "cell_type": "code",
   "execution_count": 4,
   "id": "8380d46e",
   "metadata": {},
   "outputs": [],
   "source": [
    "def get_drink_type():\n",
    "  res = input('What type of drink would you like? \\n[a] Brewed Coffee \\n[b] Mocha \\n[c] Latte \\n> ')\n",
    "\n",
    "  if res == 'a':\n",
    "    return 'brewed coffee'\n",
    "  elif res == 'b':\n",
    "    return 'mocha'\n",
    "  elif res == 'c':\n",
    "    return order_latte()\n",
    "  else:\n",
    "    print_message()\n",
    "    return get_drink_type()"
   ]
  },
  {
   "cell_type": "code",
   "execution_count": 5,
   "id": "77599d67",
   "metadata": {},
   "outputs": [],
   "source": [
    "def order_latte():\n",
    "  res = input('And what kind of milk for your latte? \\n[a] 2% milk \\n[b] Non-fat milk \\n[c] Soy milk \\n> ')\n",
    "\n",
    "  if res == 'a':\n",
    "    return 'latte'\n",
    "  elif res == 'b':\n",
    "    return 'non-fat latte'\n",
    "  elif res == 'c':\n",
    "    return 'soy latte'\n",
    "  else:\n",
    "    print_message()\n",
    "    return order_latte()"
   ]
  },
  {
   "cell_type": "code",
   "execution_count": 6,
   "id": "2aad5d7f",
   "metadata": {},
   "outputs": [],
   "source": [
    "def extra_options():\n",
    "  res = input('Would you like a plastic cup or did you bring your own reusable cup? \\n[a] I\\'ll need a cup. \\n[b] Brought my own! \\n> ')\n",
    " \n",
    "  if res == 'a':\n",
    "    print('Okay, no problem! We\\'ll get you a plastic cup.')\n",
    "  elif res == 'b':\n",
    "    print('Great! We\\'ll fill up your reusable cup.')\n",
    "  else:\n",
    "    print_message()\n",
    "    return extra_options()"
   ]
  },
  {
   "cell_type": "code",
   "execution_count": 7,
   "id": "7c773927",
   "metadata": {},
   "outputs": [
    {
     "name": "stdout",
     "output_type": "stream",
     "text": [
      "Welcome to the cafe!\n",
      "What size drink can I get for you? \n",
      "[a] Small \n",
      "[b] Medium \n",
      "[c] Large \n",
      "> a\n",
      "What type of drink would you like? \n",
      "[a] Brewed Coffee \n",
      "[b] Mocha \n",
      "[c] Latte \n",
      "> c\n",
      "And what kind of milk for your latte? \n",
      "[a] 2% milk \n",
      "[b] Non-fat milk \n",
      "[c] Soy milk \n",
      "> b\n",
      "Alright, that's a small non-fat latte!\n",
      "Would you like a plastic cup or did you bring your own reusable cup? \n",
      "[a] I'll need a cup. \n",
      "[b] Brought my own! \n",
      "> a\n",
      "Okay, no problem! We'll get you a plastic cup.\n",
      "Can I get your name please? \n",
      "> James\n",
      "Thanks, James! Your drink will be ready shortly\n"
     ]
    }
   ],
   "source": [
    "# Call coffee_bot()!\n",
    "coffee_bot()\n"
   ]
  },
  {
   "cell_type": "code",
   "execution_count": null,
   "id": "8f62966f",
   "metadata": {},
   "outputs": [],
   "source": []
  }
 ],
 "metadata": {
  "kernelspec": {
   "display_name": "Python 3 (ipykernel)",
   "language": "python",
   "name": "python3"
  },
  "language_info": {
   "codemirror_mode": {
    "name": "ipython",
    "version": 3
   },
   "file_extension": ".py",
   "mimetype": "text/x-python",
   "name": "python",
   "nbconvert_exporter": "python",
   "pygments_lexer": "ipython3",
   "version": "3.8.11"
  }
 },
 "nbformat": 4,
 "nbformat_minor": 5
}
